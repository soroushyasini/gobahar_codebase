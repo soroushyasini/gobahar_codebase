{
 "cells": [
  {
   "cell_type": "code",
   "execution_count": 1,
   "id": "57fdf2d2-f18c-44f4-99b2-2a4fcc1a6f58",
   "metadata": {},
   "outputs": [],
   "source": [
    "import pandas as pd"
   ]
  },
  {
   "cell_type": "code",
   "execution_count": 10,
   "id": "82f0d913-cb7c-4472-b41a-668f63729dab",
   "metadata": {},
   "outputs": [],
   "source": [
    "df = pd.read_excel('Metro-Subsidence.xlsx')"
   ]
  },
  {
   "cell_type": "code",
   "execution_count": 11,
   "id": "3495c017-8bf1-4c63-b3f9-700280b92827",
   "metadata": {},
   "outputs": [
    {
     "name": "stdout",
     "output_type": "stream",
     "text": [
      "     distance_from_start          X_UTM         Y_UTM  val_20150220  \\\n",
      "0                      0  719349.660300  4.024909e+06             0   \n",
      "1                    101  719255.141857  4.024944e+06             0   \n",
      "2                    202  719160.623414  4.024980e+06             0   \n",
      "3                    303  719066.104972  4.025015e+06             0   \n",
      "4                    404  718971.586536  4.025051e+06             0   \n",
      "..                   ...            ...           ...           ...   \n",
      "436                44036  691022.006470  4.055924e+06             0   \n",
      "437                44137  690937.161678  4.055979e+06             0   \n",
      "438                44238  690852.316886  4.056034e+06             0   \n",
      "439                44339  690767.472094  4.056089e+06             0   \n",
      "440                44440  690682.627303  4.056143e+06             0   \n",
      "\n",
      "     val_20150304  \n",
      "0       -2.195996  \n",
      "1       -2.340330  \n",
      "2       -2.376158  \n",
      "3       -2.138846  \n",
      "4       -1.795333  \n",
      "..            ...  \n",
      "436     -2.531825  \n",
      "437     -2.605893  \n",
      "438     -3.043644  \n",
      "439     -3.074968  \n",
      "440     -3.301478  \n",
      "\n",
      "[441 rows x 5 columns]\n"
     ]
    }
   ],
   "source": [
    "first_four_columns = df.iloc[:, :5]\n",
    "print(first_four_columns)"
   ]
  },
  {
   "cell_type": "code",
   "execution_count": 13,
   "id": "5c4a17de-6c0c-4ed8-8345-561647022e4e",
   "metadata": {},
   "outputs": [
    {
     "name": "stdout",
     "output_type": "stream",
     "text": [
      "LULC_2017_10m.tif  LULC_2019_10m.tif  LULC_2022_10m.tif  LULC_2024_10m.tif\n",
      "LULC_2018_10m.tif  LULC_2021_10m.tif  LULC_2023_10m.tif\n"
     ]
    }
   ],
   "source": [
    "!ls *.tif"
   ]
  },
  {
   "cell_type": "code",
   "execution_count": 15,
   "id": "1de03c5e-f8cd-414e-a985-f781ddbe7487",
   "metadata": {},
   "outputs": [
    {
     "name": "stdout",
     "output_type": "stream",
     "text": [
      "Raster CRS: GEOGCS[\"WGS 84\",DATUM[\"World Geodetic System 1984\",SPHEROID[\"WGS 84\",6378137,298.257223563]],PRIMEM[\"Greenwich\",0],UNIT[\"degree\",0.0174532925199433,AUTHORITY[\"EPSG\",\"9122\"]],AXIS[\"Latitude\",NORTH],AXIS[\"Longitude\",EAST]]\n"
     ]
    }
   ],
   "source": [
    "import rasterio\n",
    "from pathlib import Path\n",
    "\n",
    "raster_path = Path.cwd() / 'LULC_2017_10m.tif'\n",
    "with rasterio.open(raster_path) as src:\n",
    "    print(f\"Raster CRS: {src.crs}\")"
   ]
  },
  {
   "cell_type": "code",
   "execution_count": 16,
   "id": "2fd24842-9434-4d2a-8f43-911da4b22123",
   "metadata": {},
   "outputs": [
    {
     "ename": "CRSError",
     "evalue": "The EPSG code is unknown. PROJ: internal_proj_create_from_database: /home/linux/miniconda3/envs/licsbas2/share/proj/proj.db contains DATABASE.LAYOUT.VERSION.MINOR = 2 whereas a number >= 3 is expected. It comes from another PROJ installation.",
     "output_type": "error",
     "traceback": [
      "\u001b[0;31m---------------------------------------------------------------------------\u001b[0m",
      "\u001b[0;31mCPLE_AppDefinedError\u001b[0m                      Traceback (most recent call last)",
      "File \u001b[0;32mrasterio/crs.pyx:592\u001b[0m, in \u001b[0;36mrasterio.crs.CRS.from_epsg\u001b[0;34m()\u001b[0m\n",
      "File \u001b[0;32mrasterio/_err.pyx:289\u001b[0m, in \u001b[0;36mrasterio._err.exc_wrap_int\u001b[0;34m()\u001b[0m\n",
      "\u001b[0;31mCPLE_AppDefinedError\u001b[0m: PROJ: internal_proj_create_from_database: /home/linux/miniconda3/envs/licsbas2/share/proj/proj.db contains DATABASE.LAYOUT.VERSION.MINOR = 2 whereas a number >= 3 is expected. It comes from another PROJ installation.",
      "\nDuring handling of the above exception, another exception occurred:\n",
      "\u001b[0;31mCRSError\u001b[0m                                  Traceback (most recent call last)",
      "Cell \u001b[0;32mIn[16], line 56\u001b[0m\n\u001b[1;32m     53\u001b[0m     column_name \u001b[38;5;241m=\u001b[39m \u001b[38;5;124mf\u001b[39m\u001b[38;5;124m'\u001b[39m\u001b[38;5;124mLULC_\u001b[39m\u001b[38;5;132;01m{\u001b[39;00myear\u001b[38;5;132;01m}\u001b[39;00m\u001b[38;5;124m'\u001b[39m\n\u001b[1;32m     55\u001b[0m     \u001b[38;5;66;03m# Extract values and add as a new column\u001b[39;00m\n\u001b[0;32m---> 56\u001b[0m     gdf[column_name] \u001b[38;5;241m=\u001b[39m \u001b[43mextract_raster_values\u001b[49m\u001b[43m(\u001b[49m\u001b[43mraster_path\u001b[49m\u001b[43m,\u001b[49m\u001b[43m \u001b[49m\u001b[43mgdf_wgs84\u001b[49m\u001b[43m)\u001b[49m\n\u001b[1;32m     58\u001b[0m \u001b[38;5;66;03m# Convert back to a regular DataFrame (drop geometry)\u001b[39;00m\n\u001b[1;32m     59\u001b[0m result_df \u001b[38;5;241m=\u001b[39m pd\u001b[38;5;241m.\u001b[39mDataFrame(gdf\u001b[38;5;241m.\u001b[39mdrop(columns\u001b[38;5;241m=\u001b[39m\u001b[38;5;124m'\u001b[39m\u001b[38;5;124mgeometry\u001b[39m\u001b[38;5;124m'\u001b[39m))\n",
      "Cell \u001b[0;32mIn[16], line 33\u001b[0m, in \u001b[0;36mextract_raster_values\u001b[0;34m(raster_path, points_gdf)\u001b[0m\n\u001b[1;32m     30\u001b[0m \u001b[38;5;28;01mdef\u001b[39;00m\u001b[38;5;250m \u001b[39m\u001b[38;5;21mextract_raster_values\u001b[39m(raster_path, points_gdf):\n\u001b[1;32m     31\u001b[0m     \u001b[38;5;28;01mwith\u001b[39;00m rasterio\u001b[38;5;241m.\u001b[39mopen(raster_path) \u001b[38;5;28;01mas\u001b[39;00m src:\n\u001b[1;32m     32\u001b[0m         \u001b[38;5;66;03m# Normalize and check if raster CRS is equivalent to WGS84\u001b[39;00m\n\u001b[0;32m---> 33\u001b[0m         wgs84_crs \u001b[38;5;241m=\u001b[39m \u001b[43mCRS\u001b[49m\u001b[38;5;241;43m.\u001b[39;49m\u001b[43mfrom_epsg\u001b[49m\u001b[43m(\u001b[49m\u001b[38;5;241;43m4326\u001b[39;49m\u001b[43m)\u001b[49m\n\u001b[1;32m     34\u001b[0m         \u001b[38;5;28;01mif\u001b[39;00m \u001b[38;5;129;01mnot\u001b[39;00m src\u001b[38;5;241m.\u001b[39mcrs\u001b[38;5;241m.\u001b[39mis_valid \u001b[38;5;129;01mor\u001b[39;00m \u001b[38;5;129;01mnot\u001b[39;00m src\u001b[38;5;241m.\u001b[39mcrs\u001b[38;5;241m.\u001b[39mis_geographic \u001b[38;5;129;01mor\u001b[39;00m \u001b[38;5;129;01mnot\u001b[39;00m src\u001b[38;5;241m.\u001b[39mcrs \u001b[38;5;241m==\u001b[39m wgs84_crs:\n\u001b[1;32m     35\u001b[0m             \u001b[38;5;28;01mraise\u001b[39;00m \u001b[38;5;167;01mValueError\u001b[39;00m(\u001b[38;5;124mf\u001b[39m\u001b[38;5;124m\"\u001b[39m\u001b[38;5;124mRaster \u001b[39m\u001b[38;5;132;01m{\u001b[39;00mraster_path\u001b[38;5;132;01m}\u001b[39;00m\u001b[38;5;124m is not in WGS84 (expected EPSG:4326, got \u001b[39m\u001b[38;5;132;01m{\u001b[39;00msrc\u001b[38;5;241m.\u001b[39mcrs\u001b[38;5;132;01m}\u001b[39;00m\u001b[38;5;124m)\u001b[39m\u001b[38;5;124m\"\u001b[39m)\n",
      "File \u001b[0;32mrasterio/crs.pyx:596\u001b[0m, in \u001b[0;36mrasterio.crs.CRS.from_epsg\u001b[0;34m()\u001b[0m\n",
      "\u001b[0;31mCRSError\u001b[0m: The EPSG code is unknown. PROJ: internal_proj_create_from_database: /home/linux/miniconda3/envs/licsbas2/share/proj/proj.db contains DATABASE.LAYOUT.VERSION.MINOR = 2 whereas a number >= 3 is expected. It comes from another PROJ installation."
     ]
    }
   ],
   "source": [
    "import geopandas as gpd\n",
    "import rasterio\n",
    "import pandas as pd\n",
    "from pathlib import Path\n",
    "from rasterio.crs import CRS\n",
    "\n",
    "# Load your DataFrame (assuming it's already loaded as `df`)\n",
    "# If not, you can load it, e.g., df = pd.read_csv('your_file.csv')\n",
    "\n",
    "# Convert the DataFrame to a GeoDataFrame with UTM Zone 41N\n",
    "gdf = gpd.GeoDataFrame(\n",
    "    df,\n",
    "    geometry=gpd.points_from_xy(df['X_UTM'], df['Y_UTM']),\n",
    "    crs=\"EPSG:32641\"  # UTM Zone 41N\n",
    ")\n",
    "\n",
    "# Reproject points to WGS84 (EPSG:4326) to match raster CRS\n",
    "gdf_wgs84 = gdf.to_crs(\"EPSG:4326\")\n",
    "\n",
    "# Directory containing the raster files (same as script)\n",
    "raster_dir = Path.cwd()\n",
    "\n",
    "# List of raster files\n",
    "raster_files = [\n",
    "    'LULC_2017_10m.tif', 'LULC_2018_10m.tif', 'LULC_2019_10m.tif',\n",
    "    'LULC_2021_10m.tif', 'LULC_2022_10m.tif', 'LULC_2023_10m.tif', 'LULC_2024_10m.tif'\n",
    "]\n",
    "\n",
    "# Function to extract raster values at point locations\n",
    "def extract_raster_values(raster_path, points_gdf):\n",
    "    with rasterio.open(raster_path) as src:\n",
    "        # Normalize and check if raster CRS is equivalent to WGS84\n",
    "        wgs84_crs = CRS.from_epsg(4326)\n",
    "        if not src.crs.is_valid or not src.crs.is_geographic or not src.crs == wgs84_crs:\n",
    "            raise ValueError(f\"Raster {raster_path} is not in WGS84 (expected EPSG:4326, got {src.crs})\")\n",
    "        \n",
    "        # Get coordinates of points\n",
    "        coords = [(x, y) for x, y in zip(points_gdf.geometry.x, points_gdf.geometry.y)]\n",
    "        \n",
    "        # Sample the raster at point locations\n",
    "        values = [val[0] for val in src.sample(coords)]\n",
    "    \n",
    "    return values\n",
    "\n",
    "# Loop through each raster and add values to the GeoDataFrame\n",
    "for raster_file in raster_files:\n",
    "    raster_path = raster_dir / raster_file\n",
    "    if not raster_path.exists():\n",
    "        print(f\"Warning: {raster_path} not found, skipping...\")\n",
    "        continue\n",
    "    \n",
    "    year = raster_file.split('_')[1].split('_')[0]  # Extract year (e.g., '2017')\n",
    "    column_name = f'LULC_{year}'\n",
    "    \n",
    "    # Extract values and add as a new column\n",
    "    gdf[column_name] = extract_raster_values(raster_path, gdf_wgs84)\n",
    "\n",
    "# Convert back to a regular DataFrame (drop geometry)\n",
    "result_df = pd.DataFrame(gdf.drop(columns='geometry'))\n",
    "\n",
    "# Save or print the resulting DataFrame\n",
    "print(result_df)\n",
    "# Optionally, save to CSV\n",
    "result_df.to_csv('output_with_lulc.csv', index=False)"
   ]
  },
  {
   "cell_type": "code",
   "execution_count": null,
   "id": "f8935223-11dd-4255-aa74-4cf5e0f39cdc",
   "metadata": {},
   "outputs": [],
   "source": []
  }
 ],
 "metadata": {
  "kernelspec": {
   "display_name": "Python 3 (ipykernel)",
   "language": "python",
   "name": "python3"
  },
  "language_info": {
   "codemirror_mode": {
    "name": "ipython",
    "version": 3
   },
   "file_extension": ".py",
   "mimetype": "text/x-python",
   "name": "python",
   "nbconvert_exporter": "python",
   "pygments_lexer": "ipython3",
   "version": "3.10.16"
  }
 },
 "nbformat": 4,
 "nbformat_minor": 5
}
