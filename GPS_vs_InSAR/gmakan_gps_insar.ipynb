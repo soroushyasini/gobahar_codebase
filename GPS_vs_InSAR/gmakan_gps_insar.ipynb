{
 "cells": [
  {
   "cell_type": "code",
   "execution_count": null,
   "metadata": {},
   "outputs": [],
   "source": [
    "import pandas as pd\n",
    "import matplotlib.pyplot as plt\n",
    "from sklearn.linear_model import LinearRegression\n",
    "import json\n",
    "\n",
    "# Load GPS data from gps.json\n",
    "with open('gps.json', 'r') as f:\n",
    "    gps_data = json.load(f)\n",
    "# Extract station data and create DataFrame\n",
    "df_gps = pd.DataFrame(gps_data['station'])\n",
    "\n",
    "# Load InSAR data from disp.xlsx\n",
    "df_satellite = pd.read_excel(\"disp.xlsx\")\n",
    "\n",
    "# Convert datetime to ordinal values\n",
    "df_gps['Day_ordinal'] = pd.to_datetime(df_gps['Day']).apply(lambda date: date.toordinal())\n",
    "df_satellite['Day_ordinal'] = pd.to_datetime(df_satellite['Date']).apply(lambda date: date.toordinal())\n",
    "\n",
    "# Set figure size and create subplots\n",
    "fig, (ax1, ax2) = plt.subplots(2, 1, figsize=(15, 10), sharex=True)\n",
    "\n",
    "# Plot GPS data\n",
    "ax1.scatter(df_gps['Day'], df_gps['Shift_U'], color='royalblue', label='GPS Data', alpha=0.5, s=25)\n",
    "gps_model = LinearRegression().fit(df_gps['Day_ordinal'].values.reshape(-1, 1), df_gps['Shift_U'])\n",
    "gps_trendline = gps_model.predict(df_gps['Day_ordinal'].values.reshape(-1, 1))\n",
    "ax1.plot(df_gps['Day'], gps_trendline, color='darkblue', linestyle='--', linewidth=4, label='GPS Trendline')\n",
    "ax1.set_ylabel('Displacement (mm)', fontsize=14)\n",
    "ax1.tick_params(axis='both', which='major', labelsize=12)\n",
    "ax1.legend(fontsize=12)\n",
    "ax1.grid(True)\n",
    "\n",
    "# Plot InSAR data\n",
    "ax2.scatter(df_satellite['Date'], df_satellite['disp'], color='red', label='InSAR Data', alpha=0.8, s=95, zorder=100)\n",
    "satellite_model = LinearRegression().fit(df_satellite['Day_ordinal'].values.reshape(-1, 1), df_satellite['disp'])\n",
    "satellite_trendline = satellite_model.predict(df_satellite['Day_ordinal'].values.reshape(-1, 1))\n",
    "ax2.plot(df_satellite['Date'], satellite_trendline, color='black', linestyle='--', linewidth=4, label='InSAR Trendline')\n",
    "ax2.set_ylabel('Displacement (mm)', fontsize=14)\n",
    "ax2.set_xlabel('Date', fontsize=14)\n",
    "ax2.tick_params(axis='both', which='major', labelsize=12)\n",
    "ax2.legend(fontsize=12)\n",
    "ax2.grid(True)\n",
    "\n",
    "# Add title\n",
    "plt.suptitle('Comparison of GPS and InSAR Data', fontsize=16)\n",
    "\n",
    "# Adjust layout\n",
    "plt.tight_layout(rect=[0, 0.03, 1, 0.95])\n",
    "plt.savefig(\"Comparison of GPS and InSAR Data.png\", dpi=300)\n",
    "# Show plot\n",
    "plt.show()"
   ]
  }
 ],
 "metadata": {
  "kernelspec": {
   "display_name": "jaxa",
   "language": "python",
   "name": "python3"
  },
  "language_info": {
   "codemirror_mode": {
    "name": "ipython",
    "version": 3
   },
   "file_extension": ".py",
   "mimetype": "text/x-python",
   "name": "python",
   "nbconvert_exporter": "python",
   "pygments_lexer": "ipython3",
   "version": "3.11.11"
  }
 },
 "nbformat": 4,
 "nbformat_minor": 2
}
