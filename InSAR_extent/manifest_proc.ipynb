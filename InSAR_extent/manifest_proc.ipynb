{
 "cells": [
  {
   "cell_type": "code",
   "execution_count": 1,
   "metadata": {},
   "outputs": [
    {
     "name": "stdout",
     "output_type": "stream",
     "text": [
      "Collecting sentinelhub\n",
      "  Downloading sentinelhub-3.11.1-py3-none-any.whl.metadata (10 kB)\n",
      "Collecting aenum>=2.1.4 (from sentinelhub)\n",
      "  Downloading aenum-3.1.15-py3-none-any.whl.metadata (3.7 kB)\n",
      "Requirement already satisfied: click in c:\\users\\sorou\\miniconda3\\envs\\geo_env\\lib\\site-packages (from sentinelhub) (8.1.8)\n",
      "Collecting dataclasses-json (from sentinelhub)\n",
      "  Downloading dataclasses_json-0.6.7-py3-none-any.whl.metadata (25 kB)\n",
      "Requirement already satisfied: numpy in c:\\users\\sorou\\miniconda3\\envs\\geo_env\\lib\\site-packages (from sentinelhub) (2.2.1)\n",
      "Collecting oauthlib (from sentinelhub)\n",
      "  Downloading oauthlib-3.2.2-py3-none-any.whl.metadata (7.5 kB)\n",
      "Requirement already satisfied: pillow>=9.2.0 in c:\\users\\sorou\\miniconda3\\envs\\geo_env\\lib\\site-packages (from sentinelhub) (11.0.0)\n",
      "Requirement already satisfied: pyproj>=2.2.0 in c:\\users\\sorou\\miniconda3\\envs\\geo_env\\lib\\site-packages (from sentinelhub) (3.7.0)\n",
      "Requirement already satisfied: python-dateutil in c:\\users\\sorou\\miniconda3\\envs\\geo_env\\lib\\site-packages (from sentinelhub) (2.9.0.post0)\n",
      "Collecting requests-oauthlib>=1.0.0 (from sentinelhub)\n",
      "  Downloading requests_oauthlib-2.0.0-py2.py3-none-any.whl.metadata (11 kB)\n",
      "Requirement already satisfied: requests>=2.27.0 in c:\\users\\sorou\\miniconda3\\envs\\geo_env\\lib\\site-packages (from sentinelhub) (2.32.3)\n",
      "Requirement already satisfied: shapely in c:\\users\\sorou\\miniconda3\\envs\\geo_env\\lib\\site-packages (from sentinelhub) (2.0.6)\n",
      "Collecting tifffile>=2020.9.30 (from sentinelhub)\n",
      "  Downloading tifffile-2025.1.10-py3-none-any.whl.metadata (31 kB)\n",
      "Requirement already satisfied: tomli in c:\\users\\sorou\\miniconda3\\envs\\geo_env\\lib\\site-packages (from sentinelhub) (2.2.1)\n",
      "Collecting tomli-w (from sentinelhub)\n",
      "  Downloading tomli_w-1.2.0-py3-none-any.whl.metadata (5.7 kB)\n",
      "Collecting tqdm (from sentinelhub)\n",
      "  Downloading tqdm-4.67.1-py3-none-any.whl.metadata (57 kB)\n",
      "Requirement already satisfied: typing-extensions>=4.5.0 in c:\\users\\sorou\\miniconda3\\envs\\geo_env\\lib\\site-packages (from sentinelhub) (4.12.2)\n",
      "Collecting utm (from sentinelhub)\n",
      "  Downloading utm-0.8.0.tar.gz (13 kB)\n",
      "  Preparing metadata (setup.py): started\n",
      "  Preparing metadata (setup.py): finished with status 'done'\n",
      "Requirement already satisfied: certifi in c:\\users\\sorou\\miniconda3\\envs\\geo_env\\lib\\site-packages (from pyproj>=2.2.0->sentinelhub) (2024.12.14)\n",
      "Requirement already satisfied: charset_normalizer<4,>=2 in c:\\users\\sorou\\miniconda3\\envs\\geo_env\\lib\\site-packages (from requests>=2.27.0->sentinelhub) (3.4.0)\n",
      "Requirement already satisfied: idna<4,>=2.5 in c:\\users\\sorou\\miniconda3\\envs\\geo_env\\lib\\site-packages (from requests>=2.27.0->sentinelhub) (3.10)\n",
      "Requirement already satisfied: urllib3<3,>=1.21.1 in c:\\users\\sorou\\miniconda3\\envs\\geo_env\\lib\\site-packages (from requests>=2.27.0->sentinelhub) (2.3.0)\n",
      "Requirement already satisfied: colorama in c:\\users\\sorou\\miniconda3\\envs\\geo_env\\lib\\site-packages (from click->sentinelhub) (0.4.6)\n",
      "Collecting marshmallow<4.0.0,>=3.18.0 (from dataclasses-json->sentinelhub)\n",
      "  Downloading marshmallow-3.26.0-py3-none-any.whl.metadata (7.3 kB)\n",
      "Collecting typing-inspect<1,>=0.4.0 (from dataclasses-json->sentinelhub)\n",
      "  Downloading typing_inspect-0.9.0-py3-none-any.whl.metadata (1.5 kB)\n",
      "Requirement already satisfied: six>=1.5 in c:\\users\\sorou\\miniconda3\\envs\\geo_env\\lib\\site-packages (from python-dateutil->sentinelhub) (1.17.0)\n",
      "Requirement already satisfied: packaging>=17.0 in c:\\users\\sorou\\miniconda3\\envs\\geo_env\\lib\\site-packages (from marshmallow<4.0.0,>=3.18.0->dataclasses-json->sentinelhub) (24.2)\n",
      "Collecting mypy-extensions>=0.3.0 (from typing-inspect<1,>=0.4.0->dataclasses-json->sentinelhub)\n",
      "  Downloading mypy_extensions-1.0.0-py3-none-any.whl.metadata (1.1 kB)\n",
      "Downloading sentinelhub-3.11.1-py3-none-any.whl (249 kB)\n",
      "Downloading aenum-3.1.15-py3-none-any.whl (137 kB)\n",
      "Downloading requests_oauthlib-2.0.0-py2.py3-none-any.whl (24 kB)\n",
      "Downloading oauthlib-3.2.2-py3-none-any.whl (151 kB)\n",
      "Downloading tifffile-2025.1.10-py3-none-any.whl (227 kB)\n",
      "Downloading dataclasses_json-0.6.7-py3-none-any.whl (28 kB)\n",
      "Downloading tomli_w-1.2.0-py3-none-any.whl (6.7 kB)\n",
      "Downloading tqdm-4.67.1-py3-none-any.whl (78 kB)\n",
      "Downloading marshmallow-3.26.0-py3-none-any.whl (50 kB)\n",
      "Downloading typing_inspect-0.9.0-py3-none-any.whl (8.8 kB)\n",
      "Downloading mypy_extensions-1.0.0-py3-none-any.whl (4.7 kB)\n",
      "Building wheels for collected packages: utm\n",
      "  Building wheel for utm (setup.py): started\n",
      "  Building wheel for utm (setup.py): finished with status 'done'\n",
      "  Created wheel for utm: filename=utm-0.8.0-py3-none-any.whl size=8579 sha256=c7efec8ac2d2bbc756be1b3e092605b6ad9d52bb8dc559f9166d012bfeba3a4d\n",
      "  Stored in directory: c:\\users\\sorou\\appdata\\local\\pip\\cache\\wheels\\b0\\88\\9b\\1968d3a5933864f7d6312d8217027dd4d52b9647f678c67023\n",
      "Successfully built utm\n",
      "Installing collected packages: utm, aenum, tqdm, tomli-w, tifffile, oauthlib, mypy-extensions, marshmallow, typing-inspect, requests-oauthlib, dataclasses-json, sentinelhub\n",
      "Successfully installed aenum-3.1.15 dataclasses-json-0.6.7 marshmallow-3.26.0 mypy-extensions-1.0.0 oauthlib-3.2.2 requests-oauthlib-2.0.0 sentinelhub-3.11.1 tifffile-2025.1.10 tomli-w-1.2.0 tqdm-4.67.1 typing-inspect-0.9.0 utm-0.8.0\n"
     ]
    }
   ],
   "source": [
    "!pip install sentinelhub"
   ]
  },
  {
   "cell_type": "code",
   "execution_count": 3,
   "metadata": {},
   "outputs": [
    {
     "ename": "AttributeError",
     "evalue": "'NoneType' object has no attribute 'text'",
     "output_type": "error",
     "traceback": [
      "\u001b[1;31m---------------------------------------------------------------------------\u001b[0m",
      "\u001b[1;31mAttributeError\u001b[0m                            Traceback (most recent call last)",
      "Cell \u001b[1;32mIn[3], line 18\u001b[0m\n\u001b[0;32m     15\u001b[0m namespaces \u001b[38;5;241m=\u001b[39m {\u001b[38;5;124m'\u001b[39m\u001b[38;5;124msafe\u001b[39m\u001b[38;5;124m'\u001b[39m: \u001b[38;5;124m'\u001b[39m\u001b[38;5;124mhttp://www.esa.int/safe/sentinel-1.0\u001b[39m\u001b[38;5;124m'\u001b[39m}\n\u001b[0;32m     17\u001b[0m \u001b[38;5;66;03m# Find the pass direction\u001b[39;00m\n\u001b[1;32m---> 18\u001b[0m pass_direction \u001b[38;5;241m=\u001b[39m \u001b[43mroot\u001b[49m\u001b[38;5;241;43m.\u001b[39;49m\u001b[43mfind\u001b[49m\u001b[43m(\u001b[49m\u001b[38;5;124;43m'\u001b[39;49m\u001b[38;5;124;43m.//safe:pass\u001b[39;49m\u001b[38;5;124;43m'\u001b[39;49m\u001b[43m,\u001b[49m\u001b[43m \u001b[49m\u001b[43mnamespaces\u001b[49m\u001b[43m)\u001b[49m\u001b[38;5;241;43m.\u001b[39;49m\u001b[43mtext\u001b[49m\n\u001b[0;32m     20\u001b[0m \u001b[38;5;28mprint\u001b[39m(\u001b[38;5;124mf\u001b[39m\u001b[38;5;124m\"\u001b[39m\u001b[38;5;124mPass Direction: \u001b[39m\u001b[38;5;132;01m{\u001b[39;00mpass_direction\u001b[38;5;132;01m}\u001b[39;00m\u001b[38;5;124m\"\u001b[39m)\n",
      "\u001b[1;31mAttributeError\u001b[0m: 'NoneType' object has no attribute 'text'"
     ]
    }
   ],
   "source": [
    "import xml.etree.ElementTree as ET\n",
    "import os\n",
    "\n",
    "# Path to the SAFE folder\n",
    "#safe_folder = 'S1A_IW_SLC__1SDV_20170306T020351_20170306T020418_015565_01995E_5E97.SAFE'\n",
    "\n",
    "# Path to the manifest.safe file\n",
    "#manifest_path = os.path.join(safe_folder, 'manifest.safe')\n",
    "\n",
    "# Parse the manifest.safe file\n",
    "tree = ET.parse('manifest.safe')\n",
    "root = tree.getroot()\n",
    "\n",
    "# Namespace for the XML (required to parse Sentinel-1 metadata)\n",
    "namespaces = {'safe': 'http://www.esa.int/safe/sentinel-1.0'}\n",
    "\n",
    "# Find the pass direction\n",
    "pass_direction = root.find('.//safe:pass', namespaces).text\n",
    "\n",
    "print(f\"Pass Direction: {pass_direction}\")"
   ]
  }
 ],
 "metadata": {
  "kernelspec": {
   "display_name": "geo_env",
   "language": "python",
   "name": "python3"
  },
  "language_info": {
   "codemirror_mode": {
    "name": "ipython",
    "version": 3
   },
   "file_extension": ".py",
   "mimetype": "text/x-python",
   "name": "python",
   "nbconvert_exporter": "python",
   "pygments_lexer": "ipython3",
   "version": "3.11.11"
  }
 },
 "nbformat": 4,
 "nbformat_minor": 2
}
