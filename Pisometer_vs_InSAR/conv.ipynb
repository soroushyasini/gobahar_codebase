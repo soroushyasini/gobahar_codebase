{
 "cells": [
  {
   "cell_type": "code",
   "execution_count": 1,
   "id": "6f211877-07b7-4563-9728-acf4bd3231af",
   "metadata": {},
   "outputs": [
    {
     "name": "stdout",
     "output_type": "stream",
     "text": [
      "               نام    XUTM     YUTM  Longitude   Latitude\n",
      "0     کلاته شیخ ها  696419  4052548  59.195891  36.598222\n",
      "1   کلاته کریم خان  705232  4050822  59.293887  36.580819\n",
      "2        عبدل آباد  703410  4045780  59.272206  36.535790\n",
      "3         ستگ سفید  697135  4044157  59.201744  36.522484\n",
      "4           ذهاب 1  696433  4056592  59.197082  36.634649\n",
      "5           ذهاب 2  696597  4056590  59.198914  36.634597\n",
      "6           درنگون  701847  4055553  59.257322  36.624158\n",
      "7         خرم آباد  685188  4054079  59.070778  36.614262\n",
      "8           جمع آب  690870  4054367  59.134347  36.615735\n",
      "9            بینام  684800  4054000  59.066423  36.613625\n",
      "10            آبقد  687000  4048700  59.089721  36.565448\n"
     ]
    }
   ],
   "source": [
    "import pandas as pd\n",
    "from pyproj import Transformer\n",
    "\n",
    "# Read Excel file (replace 'your_file.xlsx' with your actual file path)\n",
    "file_path = \"cord.xlsx\"\n",
    "df = pd.read_excel(file_path)\n",
    "\n",
    "# Define transformer: UTM Zone 40N (EPSG:32640) to WGS84 (EPSG:4326)\n",
    "transformer = Transformer.from_crs(\"epsg:32640\", \"epsg:4326\", always_xy=True)\n",
    "\n",
    "# Perform coordinate transformation\n",
    "df[\"Longitude\"], df[\"Latitude\"] = transformer.transform(df[\"XUTM\"].values, df[\"YUTM\"].values)\n",
    "\n",
    "# Display the updated DataFrame\n",
    "print(df)\n",
    "\n",
    "# Optional: Save the result to Excel or CSV\n",
    "# df.to_excel(\"converted_coordinates.xlsx\", index=False)\n",
    "# df.to_csv(\"converted_coordinates.csv\", index=False)\n"
   ]
  },
  {
   "cell_type": "code",
   "execution_count": 4,
   "id": "4e7e6b87-7363-4ef9-b754-feef4d2b0177",
   "metadata": {},
   "outputs": [],
   "source": [
    "\n",
    "import folium\n",
    "\n",
    "\n",
    "# === STEP 3: Create Folium map centered on the first point ===\n",
    "m = folium.Map(location=[df.loc[0, \"Latitude\"], df.loc[0, \"Longitude\"]], zoom_start=11)\n",
    "\n",
    "# === STEP 4: Add markers ===\n",
    "for _, row in df.iterrows():\n",
    "    folium.Marker(\n",
    "        location=[row[\"Latitude\"], row[\"Longitude\"]],\n",
    "        popup=row[\"نام\"],\n",
    "        tooltip=row[\"نام\"],\n",
    "        icon=folium.Icon(color=\"blue\", icon=\"info-sign\")\n",
    "    ).add_to(m)\n",
    "\n",
    "\n",
    "m\n",
    "m.save(\"map.html\")"
   ]
  },
  {
   "cell_type": "code",
   "execution_count": null,
   "id": "169a3499-c4f6-4874-ae84-858c1bc903c7",
   "metadata": {},
   "outputs": [],
   "source": [
    "df.to_excel(\"converted_coordinates.xlsx\", index=False)"
   ]
  },
  {
   "cell_type": "code",
   "execution_count": 3,
   "id": "098c160c-9169-491d-8279-26ed32050095",
   "metadata": {},
   "outputs": [
    {
     "name": "stdout",
     "output_type": "stream",
     "text": [
      "Collecting folium\n",
      "  Downloading folium-0.19.5-py2.py3-none-any.whl.metadata (4.1 kB)\n",
      "Collecting branca>=0.6.0 (from folium)\n",
      "  Downloading branca-0.8.1-py3-none-any.whl.metadata (1.5 kB)\n",
      "Requirement already satisfied: jinja2>=2.9 in c:\\users\\acer\\.conda\\envs\\geo\\lib\\site-packages (from folium) (3.1.6)\n",
      "Requirement already satisfied: numpy in c:\\users\\acer\\.conda\\envs\\geo\\lib\\site-packages (from folium) (2.2.4)\n",
      "Requirement already satisfied: requests in c:\\users\\acer\\.conda\\envs\\geo\\lib\\site-packages (from folium) (2.32.3)\n",
      "Requirement already satisfied: xyzservices in c:\\users\\acer\\.conda\\envs\\geo\\lib\\site-packages (from folium) (2025.1.0)\n",
      "Requirement already satisfied: MarkupSafe>=2.0 in c:\\users\\acer\\.conda\\envs\\geo\\lib\\site-packages (from jinja2>=2.9->folium) (3.0.2)\n",
      "Requirement already satisfied: charset-normalizer<4,>=2 in c:\\users\\acer\\.conda\\envs\\geo\\lib\\site-packages (from requests->folium) (3.3.2)\n",
      "Requirement already satisfied: idna<4,>=2.5 in c:\\users\\acer\\.conda\\envs\\geo\\lib\\site-packages (from requests->folium) (3.7)\n",
      "Requirement already satisfied: urllib3<3,>=1.21.1 in c:\\users\\acer\\.conda\\envs\\geo\\lib\\site-packages (from requests->folium) (2.3.0)\n",
      "Requirement already satisfied: certifi>=2017.4.17 in c:\\users\\acer\\.conda\\envs\\geo\\lib\\site-packages (from requests->folium) (2025.1.31)\n",
      "Downloading folium-0.19.5-py2.py3-none-any.whl (110 kB)\n",
      "Downloading branca-0.8.1-py3-none-any.whl (26 kB)\n",
      "Installing collected packages: branca, folium\n",
      "Successfully installed branca-0.8.1 folium-0.19.5\n"
     ]
    }
   ],
   "source": [
    "!pip install folium"
   ]
  },
  {
   "cell_type": "code",
   "execution_count": 5,
   "id": "d1e3ecae-910b-4207-acf9-3f2105ed8062",
   "metadata": {},
   "outputs": [],
   "source": [
    "import pandas as pd\n",
    "import folium\n",
    "from pyproj import Transformer\n",
    "\n",
    "# Read Excel file (replace 'your_file.xlsx' with your actual file path)\n",
    "file_path = \"cord.xlsx\"\n",
    "df = pd.read_excel(file_path)\n",
    "\n",
    "# Define transformer: UTM Zone 40N (EPSG:32640) to WGS84 (EPSG:4326)\n",
    "transformer = Transformer.from_crs(\"epsg:32640\", \"epsg:4326\", always_xy=True)\n",
    "\n",
    "# Perform coordinate transformation\n",
    "df[\"Longitude\"], df[\"Latitude\"] = transformer.transform(df[\"XUTM\"].values, df[\"YUTM\"].values)\n",
    "\n",
    "# === STEP 3: Create Folium map centered on the first point ===\n",
    "m = folium.Map(location=[df.loc[0, \"Latitude\"], df.loc[0, \"Longitude\"]], zoom_start=11)\n",
    "\n",
    "# === STEP 4: Add markers with coordinates displayed on hover ===\n",
    "for _, row in df.iterrows():\n",
    "    folium.Marker(\n",
    "        location=[row[\"Latitude\"], row[\"Longitude\"]],\n",
    "        popup=row[\"نام\"],\n",
    "        tooltip=f\"Longitude: {row['Longitude']}, Latitude: {row['Latitude']}\",\n",
    "        icon=folium.Icon(color=\"blue\", icon=\"info-sign\")\n",
    "    ).add_to(m)\n",
    "\n",
    "# Save the map to an HTML file\n",
    "m.save(\"map_with_coordinates.html\")\n"
   ]
  },
  {
   "cell_type": "code",
   "execution_count": 6,
   "id": "d022b9ef-982f-417d-bd0d-5d246dc67daf",
   "metadata": {},
   "outputs": [],
   "source": [
    "import pandas as pd\n",
    "import folium\n",
    "from pyproj import Transformer\n",
    "\n",
    "# Read Excel file (replace 'your_file.xlsx' with your actual file path)\n",
    "file_path = \"cord.xlsx\"\n",
    "df = pd.read_excel(file_path)\n",
    "\n",
    "# Define transformer: UTM Zone 40N (EPSG:32640) to WGS84 (EPSG:4326)\n",
    "transformer = Transformer.from_crs(\"epsg:32640\", \"epsg:4326\", always_xy=True)\n",
    "\n",
    "# Perform coordinate transformation\n",
    "df[\"Longitude\"], df[\"Latitude\"] = transformer.transform(df[\"XUTM\"].values, df[\"YUTM\"].values)\n",
    "\n",
    "# === STEP 3: Create Folium map centered on the first point ===\n",
    "m = folium.Map(location=[df.loc[0, \"Latitude\"], df.loc[0, \"Longitude\"]], zoom_start=11)\n",
    "\n",
    "# === STEP 4: Add markers with coordinates (Longitude, Latitude, XUTM, YUTM) displayed on hover ===\n",
    "for _, row in df.iterrows():\n",
    "    folium.Marker(\n",
    "        location=[row[\"Latitude\"], row[\"Longitude\"]],\n",
    "        popup=row[\"نام\"],\n",
    "        tooltip=f\"Longitude: {row['Longitude']}, Latitude: {row['Latitude']}, XUTM: {row['XUTM']}, YUTM: {row['YUTM']}\",\n",
    "        icon=folium.Icon(color=\"blue\", icon=\"info-sign\")\n",
    "    ).add_to(m)\n",
    "\n",
    "# Save the map to an HTML file\n",
    "m.save(\"map_with_coordinates_and_utm.html\")\n"
   ]
  },
  {
   "cell_type": "code",
   "execution_count": 7,
   "id": "7984a407-b80d-4df4-a3f2-10cb8d56956e",
   "metadata": {},
   "outputs": [],
   "source": [
    "import pandas as pd\n",
    "import geopandas as gpd\n",
    "from pyproj import Transformer\n",
    "from shapely.geometry import Point\n",
    "\n",
    "# Read Excel file (replace 'your_file.xlsx' with your actual file path)\n",
    "file_path = \"cord.xlsx\"\n",
    "df = pd.read_excel(file_path)\n",
    "\n",
    "# Define transformer: UTM Zone 40N (EPSG:32640) to WGS84 (EPSG:4326)\n",
    "transformer = Transformer.from_crs(\"epsg:32640\", \"epsg:4326\", always_xy=True)\n",
    "\n",
    "# Perform coordinate transformation\n",
    "df[\"Longitude\"], df[\"Latitude\"] = transformer.transform(df[\"XUTM\"].values, df[\"YUTM\"].values)\n",
    "\n",
    "# Create a GeoDataFrame with UTM Zone 40N as the CRS\n",
    "geometry = [Point(xy) for xy in zip(df[\"XUTM\"], df[\"YUTM\"])]\n",
    "gdf = gpd.GeoDataFrame(df, geometry=geometry)\n",
    "\n",
    "# Set CRS to UTM Zone 40N (EPSG:32640)\n",
    "gdf.set_crs(\"EPSG:32640\", allow_override=True, inplace=True)\n",
    "\n",
    "# Save the GeoDataFrame as a shapefile\n",
    "gdf.to_file(\"locations_with_utm_and_latlon.shp\")\n",
    "\n",
    "# Optionally, save as a GeoJSON file too if needed\n",
    "# gdf.to_file(\"locations_with_utm_and_latlon.geojson\", driver=\"GeoJSON\")\n"
   ]
  },
  {
   "cell_type": "code",
   "execution_count": null,
   "id": "2bd42cfd-c355-406a-b5b9-bd921f469f02",
   "metadata": {},
   "outputs": [],
   "source": []
  }
 ],
 "metadata": {
  "kernelspec": {
   "display_name": "Python 3 (ipykernel)",
   "language": "python",
   "name": "python3"
  },
  "language_info": {
   "codemirror_mode": {
    "name": "ipython",
    "version": 3
   },
   "file_extension": ".py",
   "mimetype": "text/x-python",
   "name": "python",
   "nbconvert_exporter": "python",
   "pygments_lexer": "ipython3",
   "version": "3.13.2"
  }
 },
 "nbformat": 4,
 "nbformat_minor": 5
}
